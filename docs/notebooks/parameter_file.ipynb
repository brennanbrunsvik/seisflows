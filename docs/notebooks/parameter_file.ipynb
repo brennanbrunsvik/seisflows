{
 "cells": [
  {
   "cell_type": "markdown",
   "metadata": {},
   "source": [
    "# Parameter File\n",
    "\n",
    "The parameter file is the central control object for a SeisFlows workflow. Here we take a look at the anatomy of a parameter file. Parameter files in SeisFlows are formatted in the [YAML format (YAML Ain't Markup Language)](https://pyyaml.org/wiki/PyYAMLDocumentation).\n",
    "\n",
    "## Template\n",
    "\n",
    "Each workflow starts with the module-only template parameter file which defines the core modules of the package. Your choices for each of these modules will determine which paths and parameters are included in the full parameter file. Running `seisflows setup` from the command line will create the template file. "
   ]
  },
  {
   "cell_type": "code",
   "execution_count": 2,
   "metadata": {},
   "outputs": [
    {
     "name": "stdout",
     "output_type": "stream",
     "text": [
      "usage: seisflows setup [-h] [-f]\r\n",
      "\r\n",
      "In the specified working directory, copy template parameter file containing\r\n",
      "only module choices, and symlink source code for both the base and super\r\n",
      "repositories for easy edit access. If a parameter file matching the provided\r\n",
      "name exists in the working directory, a prompt will appear asking the user if\r\n",
      "they want to overwrite.\r\n",
      "\r\n",
      "optional arguments:\r\n",
      "  -h, --help   show this help message and exit\r\n",
      "  -f, --force  automatically overwrites existing parameter file\r\n"
     ]
    }
   ],
   "source": [
    "! seisflows setup -h"
   ]
  },
  {
   "cell_type": "code",
   "execution_count": 5,
   "metadata": {},
   "outputs": [
    {
     "name": "stdout",
     "output_type": "stream",
     "text": [
      "creating parameter file: parameters.yaml\r\n"
     ]
    }
   ],
   "source": [
    "! seisflows setup"
   ]
  },
  {
   "cell_type": "code",
   "execution_count": 6,
   "metadata": {},
   "outputs": [
    {
     "name": "stdout",
     "output_type": "stream",
     "text": [
      "# //////////////////////////////////////////////////////////////////////////////\r\n",
      "#\r\n",
      "#                        SeisFlows YAML Parameter File\r\n",
      "#\r\n",
      "# //////////////////////////////////////////////////////////////////////////////\r\n",
      "#\r\n",
      "# Modules correspond to the structure of the source code, and determine\r\n",
      "# SeisFlows' behavior at runtime. Each module requires its own sub-parameters.\r\n",
      "#\r\n",
      "# .. rubric::\r\n",
      "#   - To determine available options for modules listed below, run:\r\n",
      "#       > seisflows print modules\r\n",
      "#   - To auto-fill with docstrings and default values (recommended), run:\r\n",
      "#       > seisflows configure\r\n",
      "#   - To set values as NoneType, use: null\r\n",
      "#   - To set values as infinity, use: inf\r\n",
      "#\r\n",
      "#                                    MODULES\r\n",
      "#                                    ///////\r\n",
      "# workflow (str):    The types and order of functions for running SeisFlows\r\n",
      "# system (str):      Computer architecture of the system being used\r\n",
      "# solver (str):      External numerical solver to use for waveform simulations\r\n",
      "# preprocess (str):  Preprocessing schema for waveform data\r\n",
      "# optimize (str):    Optimization algorithm for the inverse problem\r\n",
      "# ==============================================================================\r\n",
      "workflow: forward\r\n",
      "system: workstation\r\n",
      "solver: specfem2d\r\n",
      "preprocess: default\r\n",
      "optimize: gradient\r\n"
     ]
    }
   ],
   "source": [
    "! cat parameters.yaml"
   ]
  },
  {
   "cell_type": "markdown",
   "metadata": {},
   "source": [
    "### How do I choose modules?\n",
    "\n",
    "As seen above, each of the modules comes with a default value which represents the base class* for this module. "
   ]
  },
  {
   "cell_type": "raw",
   "metadata": {},
   "source": [
    "* For an explanation of base classes and Python inheritance, see the `inheritance page <inheritance.html>`__ "
   ]
  },
  {
   "cell_type": "markdown",
   "metadata": {},
   "source": [
    "These default values are likely not suitable for all, e.g., if you want to run an inversion and not a forward workflow, or use SPECFEM3D not SPECFEM2D. To see all available module options, use the `seisflows print modules` command."
   ]
  },
  {
   "cell_type": "code",
   "execution_count": 7,
   "metadata": {},
   "outputs": [
    {
     "name": "stdout",
     "output_type": "stream",
     "text": [
      "                               SEISFLOWS MODULES                                \r\n",
      "                               /////////////////                                \r\n",
      "'-': module, '*': class\r\n",
      "\r\n",
      "- workflow\r\n",
      "    * forward\r\n",
      "    * inversion\r\n",
      "    * migration\r\n",
      "- system\r\n",
      "    * chinook\r\n",
      "    * cluster\r\n",
      "    * frontera\r\n",
      "    * lsf\r\n",
      "    * maui\r\n",
      "    * slurm\r\n",
      "    * workstation\r\n",
      "- solver\r\n",
      "    * specfem\r\n",
      "    * specfem2d\r\n",
      "    * specfem3d\r\n",
      "    * specfem3d_globe\r\n",
      "- preprocess\r\n",
      "    * default\r\n",
      "    * pyaflowa\r\n",
      "- optimize\r\n",
      "    * LBFGS\r\n",
      "    * NLCG\r\n",
      "    * gradient\r\n"
     ]
    }
   ],
   "source": [
    "! seisflows print modules"
   ]
  },
  {
   "cell_type": "markdown",
   "metadata": {},
   "source": [
    "### How do I change modules?\n",
    "\n",
    "Feel free to use any text editor, or use the `seisflows par` command to make changes directly from the command line. For example, say we want to use SPECFEM3D as our solver module. "
   ]
  },
  {
   "cell_type": "raw",
   "metadata": {},
   "source": [
    "This is also covered in the `command line tool page <command_line_tool.html>`__"
   ]
  },
  {
   "cell_type": "code",
   "execution_count": 8,
   "metadata": {},
   "outputs": [
    {
     "name": "stdout",
     "output_type": "stream",
     "text": [
      "solver: specfem2d -> specfem3d\r\n"
     ]
    }
   ],
   "source": [
    "# Changes the current parameter to the given value\n",
    "! seisflows par solver specfem3d"
   ]
  },
  {
   "cell_type": "code",
   "execution_count": 9,
   "metadata": {},
   "outputs": [
    {
     "name": "stdout",
     "output_type": "stream",
     "text": [
      "solver: specfem3d\r\n"
     ]
    }
   ],
   "source": [
    "# Prints out the current parameter value\n",
    "! seisflows par solver"
   ]
  },
  {
   "cell_type": "markdown",
   "metadata": {},
   "source": [
    "### How do I create a full parameter file?\n",
    "\n",
    "The module-only parameter file serves as as a template for dynamically generating the full parameter file. Since each module requires it's own unique set of parameters and paths, each parameter file will look different. We use the `seisflows configure` command to complete the file."
   ]
  },
  {
   "cell_type": "code",
   "execution_count": 10,
   "metadata": {},
   "outputs": [
    {
     "name": "stdout",
     "output_type": "stream",
     "text": [
      "usage: seisflows configure [-h] [-a]\r\n",
      "\r\n",
      "SeisFlows parameter files will vary depending on chosen modules and their\r\n",
      "respective required parameters. This function will dynamically traverse the\r\n",
      "source code and generate a template parameter file based on module choices.\r\n",
      "The resulting file incldues docstrings and type hints for each parameter.\r\n",
      "Optional parameters will be set with default values and required parameters\r\n",
      "and paths will be marked appropriately. Required parameters must be set before\r\n",
      "a workflow can be submitted.\r\n",
      "\r\n",
      "optional arguments:\r\n",
      "  -h, --help            show this help message and exit\r\n",
      "  -a, --absolute_paths  Set default paths relative to cwd\r\n"
     ]
    }
   ],
   "source": [
    "! seisflows configure -h"
   ]
  },
  {
   "cell_type": "code",
   "execution_count": 11,
   "metadata": {},
   "outputs": [],
   "source": [
    "! seisflows configure"
   ]
  },
  {
   "cell_type": "markdown",
   "metadata": {},
   "source": [
    "Below we will take a look at the parameter file we just created"
   ]
  },
  {
   "cell_type": "markdown",
   "metadata": {},
   "source": [
    "## Anatomy of a parameter file\n",
    "\n",
    "Each of SeisFlows' modules will define its own section in the parameter file, separated by a header of comments representing the docstring. Within each header, parameter names, types and descriptions are listed. At the bottom of the parameter file, there is a section defining paths required by SeisFlows. Section headers will look something: "
   ]
  },
  {
   "cell_type": "code",
   "execution_count": null,
   "metadata": {},
   "outputs": [],
   "source": [
    "# =============================================================================\n",
    "# MODULE\n",
    "# ------\n",
    "# Module description \n",
    "#\n",
    "# Parameters\n",
    "# ----------\n",
    "# :type parameter: type\n",
    "# :param paramter: description\n",
    "# ...\n",
    "# =============================================================================\n",
    "parameter: value"
   ]
  },
  {
   "cell_type": "code",
   "execution_count": 15,
   "metadata": {},
   "outputs": [
    {
     "name": "stdout",
     "output_type": "stream",
     "text": [
      "# //////////////////////////////////////////////////////////////////////////////\r\n",
      "#\r\n",
      "#                        SeisFlows YAML Parameter File\r\n",
      "#\r\n",
      "# //////////////////////////////////////////////////////////////////////////////\r\n",
      "#\r\n",
      "# Modules correspond to the structure of the source code, and determine\r\n",
      "# SeisFlows' behavior at runtime. Each module requires its own sub-parameters.\r\n",
      "#\r\n",
      "# .. rubric::\r\n",
      "#   - To determine available options for modules listed below, run:\r\n",
      "#       > seisflows print modules\r\n",
      "#   - To auto-fill with docstrings and default values (recommended), run:\r\n",
      "#       > seisflows configure\r\n",
      "#   - To set values as NoneType, use: null\r\n",
      "#   - To set values as infinity, use: inf\r\n",
      "#\r\n",
      "#                                    MODULES\r\n",
      "#                                    ///////\r\n",
      "# workflow (str):    The types and order of functions for running SeisFlows\r\n",
      "# system (str):      Computer architecture of the system being used\r\n",
      "# solver (str):      External numerical solver to use for waveform simulations\r\n",
      "# preprocess (str):  Preprocessing schema for waveform data\r\n",
      "# optimize (str):    Optimization algorithm for the inverse problem\r\n",
      "# ==============================================================================\r\n",
      "workflow: forward\r\n",
      "system: workstation\r\n",
      "solver: specfem3d\r\n",
      "preprocess: default\r\n",
      "optimize: gradient\r\n",
      "# =============================================================================\r\n",
      "#\r\n",
      "#    Forward Workflow\r\n",
      "#    ----------------\r\n",
      "#    Run forward solver in parallel and (optionally) calculate\r\n",
      "#    data-synthetic misfit and adjoint sources.\r\n",
      "#\r\n",
      "#    Parameters\r\n",
      "#    ----------\r\n",
      "#    :type modules: list of module\r\n",
      "#    :param modules: instantiated SeisFlows modules which should have been\r\n",
      "#        generated by the function `seisflows.config.import_seisflows` with a\r\n",
      "#        parameter file generated by seisflows.configure\r\n",
      "#    :type data_case: str\r\n",
      "#    :param data_case: How to address 'data' in the workflow, available options:\r\n",
      "#        'data': real data will be provided by the user in\r\n",
      "#        `path_data/{source_name}` in the same format that the solver will\r\n",
      "#        produce synthetics (controlled by `solver.format`) OR\r\n",
      "#        synthetic': 'data' will be generated as synthetic seismograms using\r\n",
      "#        a target model provided in `path_model_true`. If None, workflow will\r\n",
      "#        not attempt to generate data.\r\n",
      "#    :type export_traces: bool\r\n",
      "#    :param export_traces: export all waveforms that are generated by the\r\n",
      "#        external solver to `path_output`. If False, solver traces stored in\r\n",
      "#        scratch may be discarded at any time in the workflow\r\n",
      "#    :type export_residuals: bool\r\n",
      "#    :param export_residuals: export all residuals (data-synthetic misfit) that\r\n",
      "#        are generated by the external solver to `path_output`. If False,\r\n",
      "#        residuals stored in scratch may be discarded at any time in the workflow\r\n",
      "#\r\n",
      "#        \r\n",
      "# =============================================================================\r\n",
      "data_case: data\r\n",
      "export_traces: False\r\n",
      "export_residuals: False\r\n",
      "# =============================================================================\r\n",
      "#\r\n",
      "#    Workstation System\r\n",
      "#    ------------------\r\n",
      "#    Runs tasks in serial on a local machine.\r\n",
      "#\r\n",
      "#    Parameters\r\n",
      "#    ----------\r\n",
      "#    :type ntask: int\r\n",
      "#    :param ntask: number of individual tasks/events to run during workflow.\r\n",
      "#        Must be <= the number of source files in `path_specfem_data`\r\n",
      "#    :type nproc: int\r\n",
      "#    :param nproc: number of processors to use for each simulation\r\n",
      "#    :type log_level: str\r\n",
      "#    :param log_level: logger level to pass to logging module.\r\n"
     ]
    }
   ],
   "source": [
    "! head -80 parameters.yaml"
   ]
  },
  {
   "cell_type": "code",
   "execution_count": 18,
   "metadata": {},
   "outputs": [
    {
     "name": "stdout",
     "output_type": "stream",
     "text": [
      "path_model_true: null\r\n",
      "path_state_file: /Users/Chow/Repositories/seisflows/docs/notebooks/sfstate.txt\r\n",
      "path_data: null\r\n",
      "path_par_file: /Users/Chow/Repositories/seisflows/docs/notebooks/parameters.yaml\r\n",
      "path_log_files: /Users/Chow/Repositories/seisflows/docs/notebooks/logs\r\n",
      "path_output_log: /Users/Chow/Repositories/seisflows/docs/notebooks/sflog.txt\r\n",
      "path_specfem_bin: null\r\n",
      "path_specfem_data: null\r\n",
      "path_solver: /Users/Chow/Repositories/seisflows/docs/notebooks/scratch/solver\r\n",
      "path_preconditioner: null\r\n"
     ]
    }
   ],
   "source": [
    "! tail parameters.yaml"
   ]
  },
  {
   "cell_type": "markdown",
   "metadata": {},
   "source": [
    "### How do I know how parameters need to be set?\n",
    "\n",
    "Most SeisFlows parameters come with reasonable default values. The docstrings headers will also list the expected type and available options (if any). You may also run the `seisflows check` command which verifies that parameters are set correctly."
   ]
  },
  {
   "cell_type": "code",
   "execution_count": 19,
   "metadata": {},
   "outputs": [
    {
     "name": "stdout",
     "output_type": "stream",
     "text": [
      "\r\n",
      "================================================================================\r\n",
      "                                PARAMETER ERRROR                                \r\n",
      "                                ////////////////                                \r\n",
      "`path_specfem_bin` must exist and must point to directory containing SPECFEM\r\n",
      "executables\r\n",
      "================================================================================\r\n"
     ]
    }
   ],
   "source": [
    "! seisflows check"
   ]
  },
  {
   "cell_type": "code",
   "execution_count": 20,
   "metadata": {},
   "outputs": [],
   "source": [
    "! rm parameters.yaml  # to delete the created file from this working directory"
   ]
  }
 ],
 "metadata": {
  "kernelspec": {
   "display_name": "Python 3 (ipykernel)",
   "language": "python",
   "name": "python3"
  },
  "language_info": {
   "codemirror_mode": {
    "name": "ipython",
    "version": 3
   },
   "file_extension": ".py",
   "mimetype": "text/x-python",
   "name": "python",
   "nbconvert_exporter": "python",
   "pygments_lexer": "ipython3",
   "version": "3.7.12"
  }
 },
 "nbformat": 4,
 "nbformat_minor": 4
}
